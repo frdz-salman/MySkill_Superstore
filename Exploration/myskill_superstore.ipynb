{
 "cells": [
  {
   "cell_type": "markdown",
   "metadata": {
    "id": "1-PpC6btzV3r"
   },
   "source": [
    "## `Pastikan klik 'File > Save a copy in Drive' sebelum memulai pengerjaan`"
   ]
  },
  {
   "cell_type": "code",
   "execution_count": 1,
   "metadata": {
    "id": "GtuF-id-B6x9"
   },
   "outputs": [],
   "source": [
    "import pandas as pd\n",
    "import numpy as np\n",
    "import matplotlib.pyplot as plt\n",
    "import seaborn as sns\n",
    "from pandas.tseries.offsets import BDay"
   ]
  },
  {
   "cell_type": "markdown",
   "metadata": {
    "id": "gaiO_vqOzDGW"
   },
   "source": [
    "#Dataset\n",
    "\n",
    "Data yang digunakan adalah data yang berasal dari Tokopedia (***bukan data sesungguhnya***). Mengenai penjelasan dataset adalah sebagai berikut:\n",
    "\n",
    "|variable                       |class     |description |\n",
    "|:------------------------------|:---------|:-----------|\n",
    "**order_detail:**\n",
    "id \t\t\t|object| angka unik dari order / id_order\n",
    "customer_id \t\t|object|angka unik dari pelanggan\n",
    "order_date \t\t|object| tanggal saat dilakukan transaksi\n",
    "sku_id \t\t\t|object| angka unik dari produk (sku adalah stock keeping unit)\n",
    "price\t\t\t|int64| harga yang tertera pada tagging harga\n",
    "qty_ordered \t\t|int64| jumlah barang yang dibeli oleh pelanggan\n",
    "before_discount\t|float64| nilai harga total dari produk (price * qty_ordered)\n",
    "discount_amount\t|float64| nilai diskon product total\n",
    "after_discount\t\t|float64| nilai harga total produk ketika sudah dikurangi dengan diskon\n",
    "is_gross \t\t|int64| menunjukkan pelanggan belum membayar pesanan\n",
    "is_valid\t\t|int64| menunjukkan pelanggan sudah melakukan pembayaran\n",
    "is_net\t\t\t|int64| menunjukkan transaksi sudah selesai\n",
    "payment_id \t\t|int64| angka unik dari metode pembayaran\n",
    "||\n",
    "**sku_detail:**\n",
    "id |object| angka unik dari produk (dapat digunakan untuk key saat join)\n",
    "sku_name \t\t|object| nama dari produk\n",
    "base_price\t\t|float64| harga barang yang tertera pada tagging harga / price\n",
    "cogs \t\t\t|int64| cost of goods sold / total biaya untuk menjual 1 produk\n",
    "category\t\t|object| kategori produk\n",
    "||\n",
    "**customer_detail:**\n",
    "id \t\t\t|object| angka unik dari pelanggan\n",
    "registered_date\t|object| tanggal pelanggan mulai mendaftarkan diri sebagai anggota\n",
    "||\n",
    "**payment_detail:**\n",
    "id\t\t\t|int64| angka unik dari metode pembayaran\n",
    "payment_method\t|object| metode pembayaran yang digunakan\n"
   ]
  },
  {
   "cell_type": "code",
   "execution_count": 2,
   "metadata": {},
   "outputs": [],
   "source": [
    "def commas(x):\n",
    "    if pd.isna(x):\n",
    "        return x\n",
    "    elif isinstance(x, float):\n",
    "        return f\"{x:,.2f}\"\n",
    "    elif isinstance(x, int):\n",
    "        return f\"{x:,}\"\n",
    "    else:\n",
    "        return x\n",
    "\n",
    "pd.set_option('display.max_columns', None)"
   ]
  },
  {
   "cell_type": "markdown",
   "metadata": {},
   "source": [
    "## `Gathering Data`"
   ]
  },
  {
   "cell_type": "code",
   "execution_count": 3,
   "metadata": {
    "id": "k0BKmMw8hmgs"
   },
   "outputs": [],
   "source": [
    "order_df = pd.read_csv(r\"D:\\Documents\\VScode\\Data Analyst\\Data Analyst\\Dataset\\Dataset - My Skill\\order_detail.csv\")\n",
    "payment_df = pd.read_csv(r\"D:\\Documents\\VScode\\Data Analyst\\Data Analyst\\Dataset\\Dataset - My Skill\\payment_detail.csv\")\n",
    "customer_df = pd.read_csv(r\"D:\\Documents\\VScode\\Data Analyst\\Data Analyst\\Dataset\\Dataset - My Skill\\customer_detail.csv\")\n",
    "sku_df = pd.read_csv(r\"D:\\Documents\\VScode\\Data Analyst\\Data Analyst\\Dataset\\Dataset - My Skill\\sku_detail.csv\")"
   ]
  },
  {
   "cell_type": "code",
   "execution_count": 4,
   "metadata": {},
   "outputs": [],
   "source": [
    "merged_df = pd.merge(order_df, payment_df, left_on='payment_id', right_on='id', how='left', suffixes=('', '_payment'))\n",
    "merged_df = pd.merge(merged_df, customer_df, left_on='customer_id', right_on='id', how='left', suffixes=('', '_customer'))\n",
    "merged_df = pd.merge(merged_df, sku_df, left_on='sku_id', right_on='id', how='left', suffixes=('', '_sku'))"
   ]
  },
  {
   "cell_type": "markdown",
   "metadata": {},
   "source": [
    "## `Data Cleaning and Manipulation`"
   ]
  },
  {
   "cell_type": "code",
   "execution_count": 5,
   "metadata": {},
   "outputs": [],
   "source": [
    "merged_df = merged_df.drop(columns=['id_payment','id_sku','id_customer', 'base_price'], errors='ignore')"
   ]
  },
  {
   "cell_type": "code",
   "execution_count": 6,
   "metadata": {},
   "outputs": [
    {
     "name": "stdout",
     "output_type": "stream",
     "text": [
      "<class 'pandas.core.frame.DataFrame'>\n",
      "RangeIndex: 5884 entries, 0 to 5883\n",
      "Data columns (total 18 columns):\n",
      " #   Column           Non-Null Count  Dtype  \n",
      "---  ------           --------------  -----  \n",
      " 0   id               5884 non-null   object \n",
      " 1   customer_id      5884 non-null   object \n",
      " 2   order_date       5884 non-null   object \n",
      " 3   sku_id           5884 non-null   object \n",
      " 4   price            5884 non-null   int64  \n",
      " 5   qty_ordered      5884 non-null   int64  \n",
      " 6   before_discount  5884 non-null   float64\n",
      " 7   discount_amount  5884 non-null   float64\n",
      " 8   after_discount   5884 non-null   float64\n",
      " 9   is_gross         5884 non-null   int64  \n",
      " 10  is_valid         5884 non-null   int64  \n",
      " 11  is_net           5884 non-null   int64  \n",
      " 12  payment_id       5884 non-null   int64  \n",
      " 13  payment_method   5884 non-null   object \n",
      " 14  registered_date  5884 non-null   object \n",
      " 15  sku_name         5884 non-null   object \n",
      " 16  cogs             5884 non-null   int64  \n",
      " 17  category         5884 non-null   object \n",
      "dtypes: float64(3), int64(7), object(8)\n",
      "memory usage: 827.6+ KB\n"
     ]
    }
   ],
   "source": [
    "merged_df.info()"
   ]
  },
  {
   "cell_type": "markdown",
   "metadata": {},
   "source": [
    "### `Data type`"
   ]
  },
  {
   "cell_type": "code",
   "execution_count": 7,
   "metadata": {
    "colab": {
     "base_uri": "https://localhost:8080/"
    },
    "id": "OJyLZ97j6llt",
    "outputId": "2e8c4687-3be5-48b0-96ee-70acdab336a3"
   },
   "outputs": [],
   "source": [
    "merged_df = merged_df.astype({\"before_discount\":'int', \"discount_amount\":'int', \"after_discount\":'int'})\n",
    "merged_df[['order_date','registered_date']] = merged_df[\n",
    "    ['order_date','registered_date']].apply(pd.to_datetime)"
   ]
  },
  {
   "cell_type": "code",
   "execution_count": 8,
   "metadata": {},
   "outputs": [
    {
     "name": "stdout",
     "output_type": "stream",
     "text": [
      "<class 'pandas.core.frame.DataFrame'>\n",
      "RangeIndex: 5884 entries, 0 to 5883\n",
      "Data columns (total 18 columns):\n",
      " #   Column           Non-Null Count  Dtype         \n",
      "---  ------           --------------  -----         \n",
      " 0   id               5884 non-null   object        \n",
      " 1   customer_id      5884 non-null   object        \n",
      " 2   order_date       5884 non-null   datetime64[ns]\n",
      " 3   sku_id           5884 non-null   object        \n",
      " 4   price            5884 non-null   int64         \n",
      " 5   qty_ordered      5884 non-null   int64         \n",
      " 6   before_discount  5884 non-null   int64         \n",
      " 7   discount_amount  5884 non-null   int64         \n",
      " 8   after_discount   5884 non-null   int64         \n",
      " 9   is_gross         5884 non-null   int64         \n",
      " 10  is_valid         5884 non-null   int64         \n",
      " 11  is_net           5884 non-null   int64         \n",
      " 12  payment_id       5884 non-null   int64         \n",
      " 13  payment_method   5884 non-null   object        \n",
      " 14  registered_date  5884 non-null   datetime64[ns]\n",
      " 15  sku_name         5884 non-null   object        \n",
      " 16  cogs             5884 non-null   int64         \n",
      " 17  category         5884 non-null   object        \n",
      "dtypes: datetime64[ns](2), int64(10), object(6)\n",
      "memory usage: 827.6+ KB\n"
     ]
    }
   ],
   "source": [
    "merged_df.info()"
   ]
  },
  {
   "cell_type": "markdown",
   "metadata": {},
   "source": [
    "### `Drup Duplicated`"
   ]
  },
  {
   "cell_type": "code",
   "execution_count": 9,
   "metadata": {},
   "outputs": [
    {
     "data": {
      "text/plain": [
       "np.int64(0)"
      ]
     },
     "execution_count": 9,
     "metadata": {},
     "output_type": "execute_result"
    }
   ],
   "source": [
    "merged_df.duplicated().sum()"
   ]
  },
  {
   "cell_type": "markdown",
   "metadata": {},
   "source": [
    "### `Drop Null/NaN`"
   ]
  },
  {
   "cell_type": "code",
   "execution_count": 10,
   "metadata": {},
   "outputs": [
    {
     "data": {
      "text/plain": [
       "id                 0\n",
       "customer_id        0\n",
       "order_date         0\n",
       "sku_id             0\n",
       "price              0\n",
       "qty_ordered        0\n",
       "before_discount    0\n",
       "discount_amount    0\n",
       "after_discount     0\n",
       "is_gross           0\n",
       "is_valid           0\n",
       "is_net             0\n",
       "payment_id         0\n",
       "payment_method     0\n",
       "registered_date    0\n",
       "sku_name           0\n",
       "cogs               0\n",
       "category           0\n",
       "dtype: int64"
      ]
     },
     "execution_count": 10,
     "metadata": {},
     "output_type": "execute_result"
    }
   ],
   "source": [
    "merged_df.isna().sum()"
   ]
  },
  {
   "cell_type": "markdown",
   "metadata": {},
   "source": [
    "### `Fix Unecessary Text`"
   ]
  },
  {
   "cell_type": "code",
   "execution_count": 11,
   "metadata": {},
   "outputs": [],
   "source": [
    "merged_df[['sku_name']] = merged_df[['sku_name']].apply(lambda col: col.str.replace('_|-', ' ', regex=True))\n",
    "merged_df.payment_method = merged_df.payment_method.replace({\n",
    "    'cod': 'COD', 'Payaxis': 'Pay axis', 'Easypay':'Easy Pay',\n",
    "    'customercredit': 'Customer Credit', 'ublcreditcard':'UBL Credit Card',\n",
    "    'jazzwallet':'Jazz Wallet','mygateway': 'My Gateway', 'jazzvoucher': 'Jazz Voucher',\n",
    "    'internetbanking':'Internet Banking', 'mcblite': 'MCB Lite', 'Easypay_MA':'Easy Pay MA',\n",
    "    'easypay_voucher':'Easy Pay Voucher', 'cashatdoorstep': 'Cash at Door Step', 'productcredit':'Product Credit',\n",
    "    'financesettlement': 'Finance Settlement', 'marketingexpense': 'Marketing Expense'})\n",
    "merged_clean = merged_df.copy()"
   ]
  },
  {
   "cell_type": "markdown",
   "metadata": {},
   "source": [
    "### `Export Data`"
   ]
  },
  {
   "cell_type": "code",
   "execution_count": 12,
   "metadata": {},
   "outputs": [
    {
     "name": "stdout",
     "output_type": "stream",
     "text": [
      "<class 'pandas.core.frame.DataFrame'>\n",
      "RangeIndex: 5884 entries, 0 to 5883\n",
      "Data columns (total 18 columns):\n",
      " #   Column           Non-Null Count  Dtype         \n",
      "---  ------           --------------  -----         \n",
      " 0   id               5884 non-null   object        \n",
      " 1   customer_id      5884 non-null   object        \n",
      " 2   order_date       5884 non-null   datetime64[ns]\n",
      " 3   sku_id           5884 non-null   object        \n",
      " 4   price            5884 non-null   int64         \n",
      " 5   qty_ordered      5884 non-null   int64         \n",
      " 6   before_discount  5884 non-null   int64         \n",
      " 7   discount_amount  5884 non-null   int64         \n",
      " 8   after_discount   5884 non-null   int64         \n",
      " 9   is_gross         5884 non-null   int64         \n",
      " 10  is_valid         5884 non-null   int64         \n",
      " 11  is_net           5884 non-null   int64         \n",
      " 12  payment_id       5884 non-null   int64         \n",
      " 13  payment_method   5884 non-null   object        \n",
      " 14  registered_date  5884 non-null   datetime64[ns]\n",
      " 15  sku_name         5884 non-null   object        \n",
      " 16  cogs             5884 non-null   int64         \n",
      " 17  category         5884 non-null   object        \n",
      "dtypes: datetime64[ns](2), int64(10), object(6)\n",
      "memory usage: 827.6+ KB\n"
     ]
    }
   ],
   "source": [
    "merged_clean.info()"
   ]
  },
  {
   "cell_type": "code",
   "execution_count": null,
   "metadata": {},
   "outputs": [],
   "source": [
    "# merged_clean.to_csv(r\"D:\\Documents\\VScode\\Data Analyst\\Data Analyst\\Proyek Real\\MySkill - Proyek 2\\merged_clean.csv\", index=False)"
   ]
  },
  {
   "cell_type": "markdown",
   "metadata": {
    "id": "n8a16_2umHFG"
   },
   "source": [
    "## `No 1`\n",
    "**Dear Data Analyst**,\n",
    "<br></br>\n",
    "Akhir tahun ini, perusahaan akan memberikan hadiah bagi pelanggan yang memenangkan kompetisi **Festival Akhir Tahun**. Tim Marketing membutuhkan bantuan untuk menentukan perkiraan hadiah yang akan diberikan pada pemenang kompetisi nantinya. Hadiah tersebut akan diambil dari **TOP 5 Produk** dari Kategori **Mobiles & Tablets** selama tahun 2022, dengan jumlah kuantitas penjualan (valid = 1) paling tinggi.\n",
    "\n",
    "Mohon bantuan, untuk mengirimkan data tersebut sebelum akhir bulan ini ke Tim Marketing. Atas bantuan yang diberikan, kami mengucapkan terima kasih.\n",
    "<br></br>\n",
    "Regards\n",
    "\n",
    "**Tim Marketing**"
   ]
  },
  {
   "cell_type": "markdown",
   "metadata": {
    "id": "cvEjSa1Ftt5k"
   },
   "source": [
    "<details><summary>Klik di sini untuk tips</summary>\n",
    "\n",
    "\n",
    "```python\n",
    "1. Memfilter data dengan valid = 1\n",
    "2. Memfilter data dengan Category = Mobiles & Tablets\n",
    "3. Memfilter data pada transaksi selama 2022\n",
    "4. Gunakan groupby berdasarkan sku_name\n",
    "5. Gunakan sort_values untuk mengurutkan data\n",
    "6. Gunakan head untuk menampilkan top 5 produk\n",
    "\n",
    "\n",
    "```\n",
    "\n",
    "\n",
    "\n",
    "</details>"
   ]
  },
  {
   "cell_type": "markdown",
   "metadata": {
    "id": "aIp6KtAzoplY"
   },
   "source": [
    "## `Jawaban No 1`"
   ]
  },
  {
   "cell_type": "code",
   "execution_count": null,
   "metadata": {
    "id": "km9fyKW4pDua"
   },
   "outputs": [
    {
     "name": "stdout",
     "output_type": "stream",
     "text": [
      "Top 5 Produk dari Category Mobiles & Tablets pada tahun 2022\n"
     ]
    },
    {
     "data": {
      "text/html": [
       "<div>\n",
       "<style scoped>\n",
       "    .dataframe tbody tr th:only-of-type {\n",
       "        vertical-align: middle;\n",
       "    }\n",
       "\n",
       "    .dataframe tbody tr th {\n",
       "        vertical-align: top;\n",
       "    }\n",
       "\n",
       "    .dataframe thead th {\n",
       "        text-align: right;\n",
       "    }\n",
       "</style>\n",
       "<table border=\"1\" class=\"dataframe\">\n",
       "  <thead>\n",
       "    <tr style=\"text-align: right;\">\n",
       "      <th></th>\n",
       "      <th>year</th>\n",
       "      <th>sku_name</th>\n",
       "      <th>total_qty</th>\n",
       "    </tr>\n",
       "  </thead>\n",
       "  <tbody>\n",
       "    <tr>\n",
       "      <th>1</th>\n",
       "      <td>2022</td>\n",
       "      <td>IDROID BALRX7 Gold</td>\n",
       "      <td>1000</td>\n",
       "    </tr>\n",
       "    <tr>\n",
       "      <th>2</th>\n",
       "      <td>2022</td>\n",
       "      <td>IDROID BALRX7 Jet black</td>\n",
       "      <td>31</td>\n",
       "    </tr>\n",
       "    <tr>\n",
       "      <th>3</th>\n",
       "      <td>2022</td>\n",
       "      <td>Infinix Hot 4 Gold</td>\n",
       "      <td>15</td>\n",
       "    </tr>\n",
       "    <tr>\n",
       "      <th>42</th>\n",
       "      <td>2022</td>\n",
       "      <td>samsung Grand Prime Plus Black</td>\n",
       "      <td>11</td>\n",
       "    </tr>\n",
       "    <tr>\n",
       "      <th>34</th>\n",
       "      <td>2022</td>\n",
       "      <td>infinix Zero 4 Grey</td>\n",
       "      <td>10</td>\n",
       "    </tr>\n",
       "  </tbody>\n",
       "</table>\n",
       "</div>"
      ],
      "text/plain": [
       "    year                        sku_name  total_qty\n",
       "1   2022              IDROID BALRX7 Gold       1000\n",
       "2   2022        IDROID BALRX7 Jet black          31\n",
       "3   2022              Infinix Hot 4 Gold         15\n",
       "42  2022  samsung Grand Prime Plus Black         11\n",
       "34  2022             infinix Zero 4 Grey         10"
      ]
     },
     "execution_count": 13,
     "metadata": {},
     "output_type": "execute_result"
    }
   ],
   "source": [
    "# Tulis kode Anda di bawah ini. Dapat menggunakan lebih dari 1 blok kode\n",
    "merged_clean['year'] = merged_clean['order_date'].dt.year\n",
    "\n",
    "top_5_qty = merged_clean[\n",
    "    (merged_clean['year']==2022) &\n",
    "    (merged_clean['is_valid']==1) &\n",
    "    (merged_clean['category']=='Mobiles & Tablets')].\\\n",
    "        groupby(['year', 'sku_name']).agg(total_qty = ('qty_ordered', 'sum')\n",
    ")\n",
    "print('Top 5 Produk dari Category Mobiles & Tablets pada tahun 2022')\n",
    "top_5_qty.reset_index().sort_values('total_qty', ascending=False).head(5)"
   ]
  },
  {
   "cell_type": "code",
   "execution_count": null,
   "metadata": {},
   "outputs": [
    {
     "name": "stderr",
     "output_type": "stream",
     "text": [
      "C:\\Users\\farid\\AppData\\Local\\Temp\\ipykernel_8660\\3976182909.py:3: FutureWarning: \n",
      "\n",
      "Passing `palette` without assigning `hue` is deprecated and will be removed in v0.14.0. Assign the `x` variable to `hue` and set `legend=False` for the same effect.\n",
      "\n",
      "  sns.barplot(x='sku_name', y='total_qty', data=top_5_qty_chart, palette=\"viridis\").set_title('Top 5 Products by Quantity')\n"
     ]
    },
    {
     "data": {
      "image/png": "[encoded data removed]",
      "text/plain": [
       "<Figure size 1200x300 with 1 Axes>"
      ]
     },
     "metadata": {},
     "output_type": "display_data"
    }
   ],
   "source": [
    "top_5_qty_chart = top_5_qty.sort_values(by='total_qty', ascending=False).head(5)\n",
    "plt.figure(figsize=(12, 3))\n",
    "sns.barplot(x='sku_name', y='total_qty', data=top_5_qty_chart, palette=\"viridis\").set_title('Top 5 Products by Quantity')\n",
    "plt.show()"
   ]
  },
  {
   "cell_type": "markdown",
   "metadata": {
    "id": "LN0lhz047va-"
   },
   "source": [
    "## `No 2`\n",
    "**Dear Data Analyst**,\n",
    "<br></br>\n",
    "Menindaklanjuti meeting gabungan Tim Werehouse dan Tim Marketing, kami menemukan bahwa ketersediaan stock produk dengan Kategori Others pada akhir 2022 kemarin masih banyak.\n",
    "1. Kami mohon bantuan untuk melakukan pengecekan data penjualan kategori tersebut dengan tahun 2021 secara kuantitas penjualan. Dugaan sementara kami, telah terjadi penurunan kuantitas penjualan pada 2022 dibandingkan 2021. (Mohon juga menampilkan data ke-15 kategori)\n",
    "<br></br>\n",
    "2. Apabila memang terjadi penurunan kuantitas penjualan pada kategori Others, kami mohon bantuan untuk menyediakan data TOP 20 nama produk yang mengalami penurunan paling tinggi pada 2022 jika dibanding dengan 2021. Hal ini kami gunakan sebagai bahan diskusi pada meeting selanjutnya.  \n",
    "\n",
    "Mohon bantuan untuk mengirimkan data tersebut paling lambat 4 hari dari hari ini. Atas bantuan yang diberikan, kami mengucapkan terima kasih.\n",
    "<br></br>\n",
    "Regards\n",
    "\n",
    "**Tim Werehouse**"
   ]
  },
  {
   "cell_type": "markdown",
   "metadata": {
    "id": "nNRLB9-jtgw7"
   },
   "source": [
    "<details><summary>Klik di sini untuk tips</summary>\n",
    "\n",
    "\n",
    "```python\n",
    "1. Memfilter data dengan valid = 1\n",
    "2. Memfilter data pada transaksi selama 2021\n",
    "3. Memfilter data pada transaksi selama 2022\n",
    "4. Gunakan groupby berdasarkan sku_name masing-masing tahun\n",
    "5. Menggabungkan kedua data dengan merge\n",
    "6. Lakukan pengurangan kolom qty 2022 dengan qty 2021\n",
    "\n",
    "\n",
    "```\n",
    "\n",
    "\n",
    "\n",
    "</details>"
   ]
  },
  {
   "cell_type": "markdown",
   "metadata": {
    "id": "r665qT6oFQCn"
   },
   "source": [
    "## `Jawaban No 2.1`"
   ]
  },
  {
   "cell_type": "code",
   "execution_count": null,
   "metadata": {
    "id": "HEqp_R5lr6EP"
   },
   "outputs": [
    {
     "data": {
      "text/html": [
       "<div>\n",
       "<style scoped>\n",
       "    .dataframe tbody tr th:only-of-type {\n",
       "        vertical-align: middle;\n",
       "    }\n",
       "\n",
       "    .dataframe tbody tr th {\n",
       "        vertical-align: top;\n",
       "    }\n",
       "\n",
       "    .dataframe thead th {\n",
       "        text-align: right;\n",
       "    }\n",
       "</style>\n",
       "<table border=\"1\" class=\"dataframe\">\n",
       "  <thead>\n",
       "    <tr style=\"text-align: right;\">\n",
       "      <th></th>\n",
       "      <th>qty_2021</th>\n",
       "    </tr>\n",
       "    <tr>\n",
       "      <th>category</th>\n",
       "      <th></th>\n",
       "    </tr>\n",
       "  </thead>\n",
       "  <tbody>\n",
       "    <tr>\n",
       "      <th>Appliances</th>\n",
       "      <td>124</td>\n",
       "    </tr>\n",
       "    <tr>\n",
       "      <th>Beauty &amp; Grooming</th>\n",
       "      <td>168</td>\n",
       "    </tr>\n",
       "    <tr>\n",
       "      <th>Books</th>\n",
       "      <td>171</td>\n",
       "    </tr>\n",
       "    <tr>\n",
       "      <th>Computing</th>\n",
       "      <td>109</td>\n",
       "    </tr>\n",
       "    <tr>\n",
       "      <th>Entertainment</th>\n",
       "      <td>77</td>\n",
       "    </tr>\n",
       "    <tr>\n",
       "      <th>Health &amp; Sports</th>\n",
       "      <td>173</td>\n",
       "    </tr>\n",
       "    <tr>\n",
       "      <th>Home &amp; Living</th>\n",
       "      <td>193</td>\n",
       "    </tr>\n",
       "    <tr>\n",
       "      <th>Kids &amp; Baby</th>\n",
       "      <td>170</td>\n",
       "    </tr>\n",
       "    <tr>\n",
       "      <th>Men Fashion</th>\n",
       "      <td>237</td>\n",
       "    </tr>\n",
       "    <tr>\n",
       "      <th>Mobiles &amp; Tablets</th>\n",
       "      <td>107</td>\n",
       "    </tr>\n",
       "    <tr>\n",
       "      <th>Others</th>\n",
       "      <td>426</td>\n",
       "    </tr>\n",
       "    <tr>\n",
       "      <th>School &amp; Education</th>\n",
       "      <td>184</td>\n",
       "    </tr>\n",
       "    <tr>\n",
       "      <th>Soghaat</th>\n",
       "      <td>759</td>\n",
       "    </tr>\n",
       "    <tr>\n",
       "      <th>Superstore</th>\n",
       "      <td>327</td>\n",
       "    </tr>\n",
       "    <tr>\n",
       "      <th>Women Fashion</th>\n",
       "      <td>140</td>\n",
       "    </tr>\n",
       "  </tbody>\n",
       "</table>\n",
       "</div>"
      ],
      "text/plain": [
       "                    qty_2021\n",
       "category                    \n",
       "Appliances               124\n",
       "Beauty & Grooming        168\n",
       "Books                    171\n",
       "Computing                109\n",
       "Entertainment             77\n",
       "Health & Sports          173\n",
       "Home & Living            193\n",
       "Kids & Baby              170\n",
       "Men Fashion              237\n",
       "Mobiles & Tablets        107\n",
       "Others                   426\n",
       "School & Education       184\n",
       "Soghaat                  759\n",
       "Superstore               327\n",
       "Women Fashion            140"
      ]
     },
     "execution_count": 15,
     "metadata": {},
     "output_type": "execute_result"
    }
   ],
   "source": [
    "others_2021 = merged_clean[\n",
    "    (merged_clean['is_valid']==1) &\n",
    "    (merged_clean['year']==2021)].\\\n",
    "        groupby(['category']).agg(\n",
    "            qty_2021 = ('qty_ordered', 'sum')\n",
    ").reset_index()\n",
    "\n",
    "others_2021.set_index(['category'])"
   ]
  },
  {
   "cell_type": "code",
   "execution_count": null,
   "metadata": {},
   "outputs": [
    {
     "data": {
      "text/html": [
       "<div>\n",
       "<style scoped>\n",
       "    .dataframe tbody tr th:only-of-type {\n",
       "        vertical-align: middle;\n",
       "    }\n",
       "\n",
       "    .dataframe tbody tr th {\n",
       "        vertical-align: top;\n",
       "    }\n",
       "\n",
       "    .dataframe thead th {\n",
       "        text-align: right;\n",
       "    }\n",
       "</style>\n",
       "<table border=\"1\" class=\"dataframe\">\n",
       "  <thead>\n",
       "    <tr style=\"text-align: right;\">\n",
       "      <th></th>\n",
       "      <th>qty_2022</th>\n",
       "    </tr>\n",
       "    <tr>\n",
       "      <th>category</th>\n",
       "      <th></th>\n",
       "    </tr>\n",
       "  </thead>\n",
       "  <tbody>\n",
       "    <tr>\n",
       "      <th>Appliances</th>\n",
       "      <td>148</td>\n",
       "    </tr>\n",
       "    <tr>\n",
       "      <th>Beauty &amp; Grooming</th>\n",
       "      <td>153</td>\n",
       "    </tr>\n",
       "    <tr>\n",
       "      <th>Books</th>\n",
       "      <td>195</td>\n",
       "    </tr>\n",
       "    <tr>\n",
       "      <th>Computing</th>\n",
       "      <td>153</td>\n",
       "    </tr>\n",
       "    <tr>\n",
       "      <th>Entertainment</th>\n",
       "      <td>150</td>\n",
       "    </tr>\n",
       "    <tr>\n",
       "      <th>Health &amp; Sports</th>\n",
       "      <td>200</td>\n",
       "    </tr>\n",
       "    <tr>\n",
       "      <th>Home &amp; Living</th>\n",
       "      <td>250</td>\n",
       "    </tr>\n",
       "    <tr>\n",
       "      <th>Kids &amp; Baby</th>\n",
       "      <td>227</td>\n",
       "    </tr>\n",
       "    <tr>\n",
       "      <th>Men Fashion</th>\n",
       "      <td>175</td>\n",
       "    </tr>\n",
       "    <tr>\n",
       "      <th>Mobiles &amp; Tablets</th>\n",
       "      <td>1154</td>\n",
       "    </tr>\n",
       "    <tr>\n",
       "      <th>Others</th>\n",
       "      <td>263</td>\n",
       "    </tr>\n",
       "    <tr>\n",
       "      <th>School &amp; Education</th>\n",
       "      <td>237</td>\n",
       "    </tr>\n",
       "    <tr>\n",
       "      <th>Soghaat</th>\n",
       "      <td>612</td>\n",
       "    </tr>\n",
       "    <tr>\n",
       "      <th>Superstore</th>\n",
       "      <td>536</td>\n",
       "    </tr>\n",
       "    <tr>\n",
       "      <th>Women Fashion</th>\n",
       "      <td>489</td>\n",
       "    </tr>\n",
       "  </tbody>\n",
       "</table>\n",
       "</div>"
      ],
      "text/plain": [
       "                    qty_2022\n",
       "category                    \n",
       "Appliances               148\n",
       "Beauty & Grooming        153\n",
       "Books                    195\n",
       "Computing                153\n",
       "Entertainment            150\n",
       "Health & Sports          200\n",
       "Home & Living            250\n",
       "Kids & Baby              227\n",
       "Men Fashion              175\n",
       "Mobiles & Tablets       1154\n",
       "Others                   263\n",
       "School & Education       237\n",
       "Soghaat                  612\n",
       "Superstore               536\n",
       "Women Fashion            489"
      ]
     },
     "execution_count": 16,
     "metadata": {},
     "output_type": "execute_result"
    }
   ],
   "source": [
    "others_2022 = merged_clean[\n",
    "    (merged_clean['is_valid']==1) &\n",
    "    (merged_clean['year']==2022)].\\\n",
    "        groupby(['category']).agg(\n",
    "            qty_2022 = ('qty_ordered', 'sum')\n",
    ").reset_index()\n",
    "\n",
    "others_2022.set_index(['category'])"
   ]
  },
  {
   "cell_type": "code",
   "execution_count": null,
   "metadata": {},
   "outputs": [
    {
     "name": "stdout",
     "output_type": "stream",
     "text": [
      "Top 15 Categoty yang mengalami penurunan quantitas paling tinggi di 2021 dan 2022\n"
     ]
    },
    {
     "data": {
      "text/html": [
       "<div>\n",
       "<style scoped>\n",
       "    .dataframe tbody tr th:only-of-type {\n",
       "        vertical-align: middle;\n",
       "    }\n",
       "\n",
       "    .dataframe tbody tr th {\n",
       "        vertical-align: top;\n",
       "    }\n",
       "\n",
       "    .dataframe thead th {\n",
       "        text-align: right;\n",
       "    }\n",
       "</style>\n",
       "<table border=\"1\" class=\"dataframe\">\n",
       "  <thead>\n",
       "    <tr style=\"text-align: right;\">\n",
       "      <th></th>\n",
       "      <th>qty_2021</th>\n",
       "      <th>qty_2022</th>\n",
       "      <th>diff</th>\n",
       "    </tr>\n",
       "    <tr>\n",
       "      <th>category</th>\n",
       "      <th></th>\n",
       "      <th></th>\n",
       "      <th></th>\n",
       "    </tr>\n",
       "  </thead>\n",
       "  <tbody>\n",
       "    <tr>\n",
       "      <th>Others</th>\n",
       "      <td>426</td>\n",
       "      <td>263</td>\n",
       "      <td>-163</td>\n",
       "    </tr>\n",
       "    <tr>\n",
       "      <th>Soghaat</th>\n",
       "      <td>759</td>\n",
       "      <td>612</td>\n",
       "      <td>-147</td>\n",
       "    </tr>\n",
       "    <tr>\n",
       "      <th>Men Fashion</th>\n",
       "      <td>237</td>\n",
       "      <td>175</td>\n",
       "      <td>-62</td>\n",
       "    </tr>\n",
       "    <tr>\n",
       "      <th>Beauty &amp; Grooming</th>\n",
       "      <td>168</td>\n",
       "      <td>153</td>\n",
       "      <td>-15</td>\n",
       "    </tr>\n",
       "    <tr>\n",
       "      <th>Appliances</th>\n",
       "      <td>124</td>\n",
       "      <td>148</td>\n",
       "      <td>24</td>\n",
       "    </tr>\n",
       "    <tr>\n",
       "      <th>Books</th>\n",
       "      <td>171</td>\n",
       "      <td>195</td>\n",
       "      <td>24</td>\n",
       "    </tr>\n",
       "    <tr>\n",
       "      <th>Health &amp; Sports</th>\n",
       "      <td>173</td>\n",
       "      <td>200</td>\n",
       "      <td>27</td>\n",
       "    </tr>\n",
       "    <tr>\n",
       "      <th>Computing</th>\n",
       "      <td>109</td>\n",
       "      <td>153</td>\n",
       "      <td>44</td>\n",
       "    </tr>\n",
       "    <tr>\n",
       "      <th>School &amp; Education</th>\n",
       "      <td>184</td>\n",
       "      <td>237</td>\n",
       "      <td>53</td>\n",
       "    </tr>\n",
       "    <tr>\n",
       "      <th>Home &amp; Living</th>\n",
       "      <td>193</td>\n",
       "      <td>250</td>\n",
       "      <td>57</td>\n",
       "    </tr>\n",
       "    <tr>\n",
       "      <th>Kids &amp; Baby</th>\n",
       "      <td>170</td>\n",
       "      <td>227</td>\n",
       "      <td>57</td>\n",
       "    </tr>\n",
       "    <tr>\n",
       "      <th>Entertainment</th>\n",
       "      <td>77</td>\n",
       "      <td>150</td>\n",
       "      <td>73</td>\n",
       "    </tr>\n",
       "    <tr>\n",
       "      <th>Superstore</th>\n",
       "      <td>327</td>\n",
       "      <td>536</td>\n",
       "      <td>209</td>\n",
       "    </tr>\n",
       "    <tr>\n",
       "      <th>Women Fashion</th>\n",
       "      <td>140</td>\n",
       "      <td>489</td>\n",
       "      <td>349</td>\n",
       "    </tr>\n",
       "    <tr>\n",
       "      <th>Mobiles &amp; Tablets</th>\n",
       "      <td>107</td>\n",
       "      <td>1154</td>\n",
       "      <td>1047</td>\n",
       "    </tr>\n",
       "  </tbody>\n",
       "</table>\n",
       "</div>"
      ],
      "text/plain": [
       "                    qty_2021  qty_2022  diff\n",
       "category                                    \n",
       "Others                   426       263  -163\n",
       "Soghaat                  759       612  -147\n",
       "Men Fashion              237       175   -62\n",
       "Beauty & Grooming        168       153   -15\n",
       "Appliances               124       148    24\n",
       "Books                    171       195    24\n",
       "Health & Sports          173       200    27\n",
       "Computing                109       153    44\n",
       "School & Education       184       237    53\n",
       "Home & Living            193       250    57\n",
       "Kids & Baby              170       227    57\n",
       "Entertainment             77       150    73\n",
       "Superstore               327       536   209\n",
       "Women Fashion            140       489   349\n",
       "Mobiles & Tablets        107      1154  1047"
      ]
     },
     "execution_count": 17,
     "metadata": {},
     "output_type": "execute_result"
    }
   ],
   "source": [
    "difference_cat = pd.merge(others_2021, others_2022, on='category', how='inner')\n",
    "difference_cat['diff'] = difference_cat['qty_2022'] - difference_cat['qty_2021']\n",
    "\n",
    "difference_cat['sort_order'] = difference_cat['category'].apply(lambda x: 0 if x == 'Others' else 1)\n",
    "difference_cat = difference_cat.sort_values(['sort_order', 'diff'], ascending=[True, True])\n",
    "difference_cat = difference_cat.drop(columns=['sort_order'])\n",
    "\n",
    "print('Top 15 Categoty yang mengalami penurunan quantitas paling tinggi di 2021 dan 2022')\n",
    "difference_cat.set_index('category').head(15)"
   ]
  },
  {
   "cell_type": "code",
   "execution_count": null,
   "metadata": {},
   "outputs": [
    {
     "name": "stderr",
     "output_type": "stream",
     "text": [
      "C:\\Users\\farid\\AppData\\Local\\Temp\\ipykernel_8660\\2160829840.py:3: FutureWarning: \n",
      "\n",
      "Passing `palette` without assigning `hue` is deprecated and will be removed in v0.14.0. Assign the `x` variable to `hue` and set `legend=False` for the same effect.\n",
      "\n",
      "  sns.barplot(x='category', y='diff', data=difference_cat, palette=colors).set(title=\"Change in Quantity from 2021 to 2022\")\n"
     ]
    },
    {
     "data": {
      "image/png": "[encoded data removed]",
      "text/plain": [
       "<Figure size 1500x300 with 1 Axes>"
      ]
     },
     "metadata": {},
     "output_type": "display_data"
    }
   ],
   "source": [
    "colors = ['red' if x < 0 else 'green' for x in difference_cat['diff']]\n",
    "plt.figure(figsize=(15, 3))\n",
    "sns.barplot(x='category', y='diff', data=difference_cat, palette=colors).set(title=\"Change in Quantity from 2021 to 2022\")\n",
    "plt.xticks(rotation=45)\n",
    "plt.show()"
   ]
  },
  {
   "cell_type": "markdown",
   "metadata": {
    "id": "KYnzQ6fHFV0j"
   },
   "source": [
    "## `Jawaban No 2.2`"
   ]
  },
  {
   "cell_type": "code",
   "execution_count": null,
   "metadata": {},
   "outputs": [
    {
     "data": {
      "text/html": [
       "<div>\n",
       "<style scoped>\n",
       "    .dataframe tbody tr th:only-of-type {\n",
       "        vertical-align: middle;\n",
       "    }\n",
       "\n",
       "    .dataframe tbody tr th {\n",
       "        vertical-align: top;\n",
       "    }\n",
       "\n",
       "    .dataframe thead th {\n",
       "        text-align: right;\n",
       "    }\n",
       "</style>\n",
       "<table border=\"1\" class=\"dataframe\">\n",
       "  <thead>\n",
       "    <tr style=\"text-align: right;\">\n",
       "      <th></th>\n",
       "      <th>sku_name</th>\n",
       "      <th>qty_2021</th>\n",
       "    </tr>\n",
       "  </thead>\n",
       "  <tbody>\n",
       "    <tr>\n",
       "      <th>39</th>\n",
       "      <td>RB Dettol Germ Busting Kit bf</td>\n",
       "      <td>200</td>\n",
       "    </tr>\n",
       "    <tr>\n",
       "      <th>43</th>\n",
       "      <td>Telemall MM DR HB L</td>\n",
       "      <td>23</td>\n",
       "    </tr>\n",
       "    <tr>\n",
       "      <th>10</th>\n",
       "      <td>Dawlance MD 10 + DWB 600</td>\n",
       "      <td>23</td>\n",
       "    </tr>\n",
       "    <tr>\n",
       "      <th>69</th>\n",
       "      <td>iu Tickets General Enclosure Islamabad</td>\n",
       "      <td>20</td>\n",
       "    </tr>\n",
       "    <tr>\n",
       "      <th>40</th>\n",
       "      <td>RS Rehmat e Shereen Mix Mithai</td>\n",
       "      <td>13</td>\n",
       "    </tr>\n",
       "  </tbody>\n",
       "</table>\n",
       "</div>"
      ],
      "text/plain": [
       "                                  sku_name  qty_2021\n",
       "39           RB Dettol Germ Busting Kit bf       200\n",
       "43                     Telemall MM DR HB L        23\n",
       "10                Dawlance MD 10 + DWB 600        23\n",
       "69  iu Tickets General Enclosure Islamabad        20\n",
       "40          RS Rehmat e Shereen Mix Mithai        13"
      ]
     },
     "execution_count": 19,
     "metadata": {},
     "output_type": "execute_result"
    }
   ],
   "source": [
    "others_minus_2021 = merged_clean[\n",
    "    (merged_clean['is_valid']==1) &\n",
    "    (merged_clean['year']==2021) &\n",
    "    (merged_clean['category']=='Others')].\\\n",
    "        groupby(['sku_name']).agg(\n",
    "            qty_2021 = ('qty_ordered', 'sum')\n",
    ").reset_index()\n",
    "others_minus_2021.sort_values(by=['qty_2021'], ascending=False).head(5)"
   ]
  },
  {
   "cell_type": "code",
   "execution_count": null,
   "metadata": {},
   "outputs": [
    {
     "data": {
      "text/html": [
       "<div>\n",
       "<style scoped>\n",
       "    .dataframe tbody tr th:only-of-type {\n",
       "        vertical-align: middle;\n",
       "    }\n",
       "\n",
       "    .dataframe tbody tr th {\n",
       "        vertical-align: top;\n",
       "    }\n",
       "\n",
       "    .dataframe thead th {\n",
       "        text-align: right;\n",
       "    }\n",
       "</style>\n",
       "<table border=\"1\" class=\"dataframe\">\n",
       "  <thead>\n",
       "    <tr style=\"text-align: right;\">\n",
       "      <th></th>\n",
       "      <th>sku_name</th>\n",
       "      <th>qty_2022</th>\n",
       "    </tr>\n",
       "  </thead>\n",
       "  <tbody>\n",
       "    <tr>\n",
       "      <th>37</th>\n",
       "      <td>RB Dettol Germ Busting Kit bf</td>\n",
       "      <td>45</td>\n",
       "    </tr>\n",
       "    <tr>\n",
       "      <th>82</th>\n",
       "      <td>emart Tyre Shape Air Compressor</td>\n",
       "      <td>34</td>\n",
       "    </tr>\n",
       "    <tr>\n",
       "      <th>43</th>\n",
       "      <td>SKMT Medicine</td>\n",
       "      <td>20</td>\n",
       "    </tr>\n",
       "    <tr>\n",
       "      <th>90</th>\n",
       "      <td>shoppers stop MagicGlass 3</td>\n",
       "      <td>13</td>\n",
       "    </tr>\n",
       "    <tr>\n",
       "      <th>47</th>\n",
       "      <td>TCF Educate a Child for a Month</td>\n",
       "      <td>8</td>\n",
       "    </tr>\n",
       "  </tbody>\n",
       "</table>\n",
       "</div>"
      ],
      "text/plain": [
       "                           sku_name  qty_2022\n",
       "37    RB Dettol Germ Busting Kit bf        45\n",
       "82  emart Tyre Shape Air Compressor        34\n",
       "43                    SKMT Medicine        20\n",
       "90       shoppers stop MagicGlass 3        13\n",
       "47  TCF Educate a Child for a Month         8"
      ]
     },
     "execution_count": 20,
     "metadata": {},
     "output_type": "execute_result"
    }
   ],
   "source": [
    "others_minus_2022 = merged_clean[\n",
    "    (merged_clean['is_valid']==1) &\n",
    "    (merged_clean['year']==2022) &\n",
    "    (merged_clean['category']=='Others')].\\\n",
    "        groupby(['sku_name']).agg(\n",
    "            qty_2022 = ('qty_ordered', 'sum')\n",
    ").reset_index()\n",
    "others_minus_2022.sort_values(by=['qty_2022'], ascending=False).head(5)"
   ]
  },
  {
   "cell_type": "code",
   "execution_count": null,
   "metadata": {},
   "outputs": [
    {
     "name": "stdout",
     "output_type": "stream",
     "text": [
      "Top 20 Produk kategory Others yang mengalami penurunan quantitas paling tinggi di 2021 dan 2022\n"
     ]
    },
    {
     "data": {
      "text/html": [
       "<div>\n",
       "<style scoped>\n",
       "    .dataframe tbody tr th:only-of-type {\n",
       "        vertical-align: middle;\n",
       "    }\n",
       "\n",
       "    .dataframe tbody tr th {\n",
       "        vertical-align: top;\n",
       "    }\n",
       "\n",
       "    .dataframe thead th {\n",
       "        text-align: right;\n",
       "    }\n",
       "</style>\n",
       "<table border=\"1\" class=\"dataframe\">\n",
       "  <thead>\n",
       "    <tr style=\"text-align: right;\">\n",
       "      <th></th>\n",
       "      <th>qty_2021</th>\n",
       "      <th>qty_2022</th>\n",
       "      <th>diff</th>\n",
       "    </tr>\n",
       "    <tr>\n",
       "      <th>sku_name</th>\n",
       "      <th></th>\n",
       "      <th></th>\n",
       "      <th></th>\n",
       "    </tr>\n",
       "  </thead>\n",
       "  <tbody>\n",
       "    <tr>\n",
       "      <th>RB Dettol Germ Busting Kit bf</th>\n",
       "      <td>200</td>\n",
       "      <td>45</td>\n",
       "      <td>-155</td>\n",
       "    </tr>\n",
       "    <tr>\n",
       "      <th>Telemall MM DR HB L</th>\n",
       "      <td>23</td>\n",
       "      <td>2</td>\n",
       "      <td>-21</td>\n",
       "    </tr>\n",
       "    <tr>\n",
       "      <th>kansai NeverWet</th>\n",
       "      <td>10</td>\n",
       "      <td>1</td>\n",
       "      <td>-9</td>\n",
       "    </tr>\n",
       "    <tr>\n",
       "      <th>emart 00 1</th>\n",
       "      <td>7</td>\n",
       "      <td>1</td>\n",
       "      <td>-6</td>\n",
       "    </tr>\n",
       "    <tr>\n",
       "      <th>MEGUIAR G12711</th>\n",
       "      <td>4</td>\n",
       "      <td>1</td>\n",
       "      <td>-3</td>\n",
       "    </tr>\n",
       "    <tr>\n",
       "      <th>Aladdin bike cover</th>\n",
       "      <td>3</td>\n",
       "      <td>2</td>\n",
       "      <td>-1</td>\n",
       "    </tr>\n",
       "    <tr>\n",
       "      <th>Entertainer Asia Vouch 365 2017 Mobile App Lahore</th>\n",
       "      <td>2</td>\n",
       "      <td>1</td>\n",
       "      <td>-1</td>\n",
       "    </tr>\n",
       "    <tr>\n",
       "      <th>Tmall MM DR PAD</th>\n",
       "      <td>2</td>\n",
       "      <td>1</td>\n",
       "      <td>-1</td>\n",
       "    </tr>\n",
       "    <tr>\n",
       "      <th>aw Ultra Shine Wash &amp; Wax 64oz./1893ml</th>\n",
       "      <td>2</td>\n",
       "      <td>1</td>\n",
       "      <td>-1</td>\n",
       "    </tr>\n",
       "    <tr>\n",
       "      <th>Lacie 9000146</th>\n",
       "      <td>1</td>\n",
       "      <td>1</td>\n",
       "      <td>0</td>\n",
       "    </tr>\n",
       "    <tr>\n",
       "      <th>MEGUIAR A1214</th>\n",
       "      <td>1</td>\n",
       "      <td>1</td>\n",
       "      <td>0</td>\n",
       "    </tr>\n",
       "    <tr>\n",
       "      <th>electro Humidifier</th>\n",
       "      <td>1</td>\n",
       "      <td>1</td>\n",
       "      <td>0</td>\n",
       "    </tr>\n",
       "    <tr>\n",
       "      <th>Entertainer Asia Vouch 365   2017 Book Karachi</th>\n",
       "      <td>1</td>\n",
       "      <td>2</td>\n",
       "      <td>1</td>\n",
       "    </tr>\n",
       "    <tr>\n",
       "      <th>MEGUIAR G18211</th>\n",
       "      <td>1</td>\n",
       "      <td>2</td>\n",
       "      <td>1</td>\n",
       "    </tr>\n",
       "    <tr>\n",
       "      <th>aw CONSTRUCTION FOAM 700ml</th>\n",
       "      <td>1</td>\n",
       "      <td>2</td>\n",
       "      <td>1</td>\n",
       "    </tr>\n",
       "    <tr>\n",
       "      <th>vitamin 265</th>\n",
       "      <td>1</td>\n",
       "      <td>2</td>\n",
       "      <td>1</td>\n",
       "    </tr>\n",
       "    <tr>\n",
       "      <th>kansai Undercoating Aerosol</th>\n",
       "      <td>3</td>\n",
       "      <td>6</td>\n",
       "      <td>3</td>\n",
       "    </tr>\n",
       "    <tr>\n",
       "      <th>emart 0 37</th>\n",
       "      <td>1</td>\n",
       "      <td>7</td>\n",
       "      <td>6</td>\n",
       "    </tr>\n",
       "    <tr>\n",
       "      <th>emart Tyre Shape Air Compressor</th>\n",
       "      <td>5</td>\n",
       "      <td>34</td>\n",
       "      <td>29</td>\n",
       "    </tr>\n",
       "  </tbody>\n",
       "</table>\n",
       "</div>"
      ],
      "text/plain": [
       "                                                   qty_2021  qty_2022  diff\n",
       "sku_name                                                                   \n",
       "RB Dettol Germ Busting Kit bf                           200        45  -155\n",
       "Telemall MM DR HB L                                      23         2   -21\n",
       "kansai NeverWet                                          10         1    -9\n",
       "emart 00 1                                                7         1    -6\n",
       "MEGUIAR G12711                                            4         1    -3\n",
       "Aladdin bike cover                                        3         2    -1\n",
       "Entertainer Asia Vouch 365 2017 Mobile App Lahore         2         1    -1\n",
       "Tmall MM DR PAD                                           2         1    -1\n",
       "aw Ultra Shine Wash & Wax 64oz./1893ml                    2         1    -1\n",
       "Lacie 9000146                                             1         1     0\n",
       "MEGUIAR A1214                                             1         1     0\n",
       "electro Humidifier                                        1         1     0\n",
       "Entertainer Asia Vouch 365   2017 Book Karachi            1         2     1\n",
       "MEGUIAR G18211                                            1         2     1\n",
       "aw CONSTRUCTION FOAM 700ml                                1         2     1\n",
       "vitamin 265                                               1         2     1\n",
       "kansai Undercoating Aerosol                               3         6     3\n",
       "emart 0 37                                                1         7     6\n",
       "emart Tyre Shape Air Compressor                           5        34    29"
      ]
     },
     "execution_count": 21,
     "metadata": {},
     "output_type": "execute_result"
    }
   ],
   "source": [
    "difference_sku = pd.merge(others_minus_2021, others_minus_2022, on='sku_name', how='inner')\n",
    "difference_sku['diff'] = difference_sku['qty_2022'] - difference_sku['qty_2021']\n",
    "\n",
    "difference_sku['sort_order'] = difference_sku['sku_name'].apply(lambda x: 0 if x == 'Others' else 1)\n",
    "difference_sku = difference_sku.sort_values(['sort_order', 'diff'], ascending=[True, True])\n",
    "difference_sku = difference_sku.drop(columns=['sort_order'])\n",
    "\n",
    "print('Top 20 Produk kategory Others yang mengalami penurunan quantitas paling tinggi di 2021 dan 2022')\n",
    "difference_sku.set_index('sku_name').head(20)"
   ]
  },
  {
   "cell_type": "code",
   "execution_count": null,
   "metadata": {},
   "outputs": [
    {
     "name": "stderr",
     "output_type": "stream",
     "text": [
      "C:\\Users\\farid\\AppData\\Local\\Temp\\ipykernel_8660\\2789635271.py:2: FutureWarning: \n",
      "\n",
      "Passing `palette` without assigning `hue` is deprecated and will be removed in v0.14.0. Assign the `y` variable to `hue` and set `legend=False` for the same effect.\n",
      "\n",
      "  sns.barplot(x='diff', y='sku_name', data=difference_sku, palette=colors).set(title=\"Change in Quantity from 2021 to 2022 by Category Others\")\n"
     ]
    },
    {
     "data": {
      "image/png": "[encoded data removed]",
      "text/plain": [
       "<Figure size 640x480 with 1 Axes>"
      ]
     },
     "metadata": {},
     "output_type": "display_data"
    }
   ],
   "source": [
    "colors = ['red' if x < 0 else 'green' for x in difference_sku['diff']]\n",
    "sns.barplot(x='diff', y='sku_name', data=difference_sku, palette=colors).set(title=\"Change in Quantity from 2021 to 2022 by Category Others\")\n",
    "plt.show()"
   ]
  },
  {
   "cell_type": "markdown",
   "metadata": {
    "id": "sd6auPIXKOOj"
   },
   "source": [
    "## `No 3`\n",
    "**Dear Data Analyst**,\n",
    "<br></br>\n",
    "Terkait ulang tahun perusahaan pada 2 bulan mendatang, Tim Digital Marketing akan memberikan informasi promo bagi pelanggan pada akhir bulan ini. Kriteria pelanggan yang akan kami butuhkan adalah mereka yang sudah melakukan check-out namun belum melakukan pembayaran (is_gross = 1) selama tahun 2022. Data yang kami butuhkan adalah ID Customer dan Registered Date.\n",
    "\n",
    "Mohon bantuan, untuk mengirimkan data tersebut sebelum akhir bulan ini ke Tim Digital Marketing. Atas bantuan yang diberikan, kami mengucapkan terima kasih.\n",
    "<br></br>\n",
    "Regards\n",
    "\n",
    "**Tim Digital Marketing**"
   ]
  },
  {
   "cell_type": "markdown",
   "metadata": {
    "id": "HbrcJ3lnt7G2"
   },
   "source": [
    "<details><summary>Klik di sini untuk tips</summary>\n",
    "\n",
    "\n",
    "```python\n",
    "1. Memfilter data dengan gross = 1\n",
    "2. Memfilter data dengan valid = 0\n",
    "3. Memfilter data dengan net = 0\n",
    "4. Memfilter data pada transaksi selama 2022\n",
    "\n",
    "\n",
    "```\n",
    "\n",
    "\n",
    "\n",
    "</details>"
   ]
  },
  {
   "cell_type": "markdown",
   "metadata": {
    "id": "4ie5FAZ5t1cF"
   },
   "source": [
    "## `Jawaban No 3`"
   ]
  },
  {
   "cell_type": "code",
   "execution_count": null,
   "metadata": {
    "id": "QJsHmbztuvRX"
   },
   "outputs": [
    {
     "data": {
      "text/html": [
       "<div>\n",
       "<style scoped>\n",
       "    .dataframe tbody tr th:only-of-type {\n",
       "        vertical-align: middle;\n",
       "    }\n",
       "\n",
       "    .dataframe tbody tr th {\n",
       "        vertical-align: top;\n",
       "    }\n",
       "\n",
       "    .dataframe thead th {\n",
       "        text-align: right;\n",
       "    }\n",
       "</style>\n",
       "<table border=\"1\" class=\"dataframe\">\n",
       "  <thead>\n",
       "    <tr style=\"text-align: right;\">\n",
       "      <th></th>\n",
       "      <th>customer_id</th>\n",
       "      <th>registered_date</th>\n",
       "    </tr>\n",
       "  </thead>\n",
       "  <tbody>\n",
       "    <tr>\n",
       "      <th>0</th>\n",
       "      <td>C107850L</td>\n",
       "      <td>2022-08-03</td>\n",
       "    </tr>\n",
       "    <tr>\n",
       "      <th>1</th>\n",
       "      <td>C110122L</td>\n",
       "      <td>2022-08-14</td>\n",
       "    </tr>\n",
       "    <tr>\n",
       "      <th>2</th>\n",
       "      <td>C114766L</td>\n",
       "      <td>2022-01-28</td>\n",
       "    </tr>\n",
       "    <tr>\n",
       "      <th>3</th>\n",
       "      <td>C115129L</td>\n",
       "      <td>2021-11-15</td>\n",
       "    </tr>\n",
       "    <tr>\n",
       "      <th>4</th>\n",
       "      <td>C115342L</td>\n",
       "      <td>2022-06-17</td>\n",
       "    </tr>\n",
       "    <tr>\n",
       "      <th>...</th>\n",
       "      <td>...</td>\n",
       "      <td>...</td>\n",
       "    </tr>\n",
       "    <tr>\n",
       "      <th>815</th>\n",
       "      <td>C995774L</td>\n",
       "      <td>2022-02-18</td>\n",
       "    </tr>\n",
       "    <tr>\n",
       "      <th>816</th>\n",
       "      <td>C995819L</td>\n",
       "      <td>2022-07-21</td>\n",
       "    </tr>\n",
       "    <tr>\n",
       "      <th>817</th>\n",
       "      <td>C998017L</td>\n",
       "      <td>2021-11-14</td>\n",
       "    </tr>\n",
       "    <tr>\n",
       "      <th>818</th>\n",
       "      <td>C998847L</td>\n",
       "      <td>2022-07-03</td>\n",
       "    </tr>\n",
       "    <tr>\n",
       "      <th>819</th>\n",
       "      <td>C999472L</td>\n",
       "      <td>2021-07-20</td>\n",
       "    </tr>\n",
       "  </tbody>\n",
       "</table>\n",
       "<p>820 rows × 2 columns</p>\n",
       "</div>"
      ],
      "text/plain": [
       "    customer_id registered_date\n",
       "0      C107850L      2022-08-03\n",
       "1      C110122L      2022-08-14\n",
       "2      C114766L      2022-01-28\n",
       "3      C115129L      2021-11-15\n",
       "4      C115342L      2022-06-17\n",
       "..          ...             ...\n",
       "815    C995774L      2022-02-18\n",
       "816    C995819L      2022-07-21\n",
       "817    C998017L      2021-11-14\n",
       "818    C998847L      2022-07-03\n",
       "819    C999472L      2021-07-20\n",
       "\n",
       "[820 rows x 2 columns]"
      ]
     },
     "execution_count": 23,
     "metadata": {},
     "output_type": "execute_result"
    }
   ],
   "source": [
    "# Tulis kode Anda di bawah ini. Dapat menggunakan lebih dari 1 blok kode\n",
    "promo = merged_clean[\n",
    "    (merged_clean['year']==2022) &\n",
    "    (merged_clean['is_gross']==1) &\n",
    "    (merged_clean['is_valid']==0) &\n",
    "    (merged_clean['is_net']==0)].\\\n",
    "        groupby(['customer_id', 'registered_date']).size().reset_index(name='count').drop(columns=['count'])\n",
    "promo"
   ]
  },
  {
   "cell_type": "code",
   "execution_count": null,
   "metadata": {},
   "outputs": [
    {
     "data": {
      "text/html": [
       "<div>\n",
       "<style scoped>\n",
       "    .dataframe tbody tr th:only-of-type {\n",
       "        vertical-align: middle;\n",
       "    }\n",
       "\n",
       "    .dataframe tbody tr th {\n",
       "        vertical-align: top;\n",
       "    }\n",
       "\n",
       "    .dataframe thead th {\n",
       "        text-align: right;\n",
       "    }\n",
       "</style>\n",
       "<table border=\"1\" class=\"dataframe\">\n",
       "  <thead>\n",
       "    <tr style=\"text-align: right;\">\n",
       "      <th></th>\n",
       "      <th>customer_id</th>\n",
       "      <th>registered_date</th>\n",
       "    </tr>\n",
       "  </thead>\n",
       "  <tbody>\n",
       "    <tr>\n",
       "      <th>0</th>\n",
       "      <td>C107850L</td>\n",
       "      <td>2022-08-03</td>\n",
       "    </tr>\n",
       "    <tr>\n",
       "      <th>1</th>\n",
       "      <td>C110122L</td>\n",
       "      <td>2022-08-14</td>\n",
       "    </tr>\n",
       "    <tr>\n",
       "      <th>2</th>\n",
       "      <td>C114766L</td>\n",
       "      <td>2022-01-28</td>\n",
       "    </tr>\n",
       "    <tr>\n",
       "      <th>3</th>\n",
       "      <td>C115342L</td>\n",
       "      <td>2022-06-17</td>\n",
       "    </tr>\n",
       "    <tr>\n",
       "      <th>4</th>\n",
       "      <td>C115470L</td>\n",
       "      <td>2022-06-11</td>\n",
       "    </tr>\n",
       "    <tr>\n",
       "      <th>...</th>\n",
       "      <td>...</td>\n",
       "      <td>...</td>\n",
       "    </tr>\n",
       "    <tr>\n",
       "      <th>620</th>\n",
       "      <td>C994467L</td>\n",
       "      <td>2022-03-15</td>\n",
       "    </tr>\n",
       "    <tr>\n",
       "      <th>621</th>\n",
       "      <td>C995583L</td>\n",
       "      <td>2022-03-02</td>\n",
       "    </tr>\n",
       "    <tr>\n",
       "      <th>622</th>\n",
       "      <td>C995774L</td>\n",
       "      <td>2022-02-18</td>\n",
       "    </tr>\n",
       "    <tr>\n",
       "      <th>623</th>\n",
       "      <td>C995819L</td>\n",
       "      <td>2022-07-21</td>\n",
       "    </tr>\n",
       "    <tr>\n",
       "      <th>624</th>\n",
       "      <td>C998847L</td>\n",
       "      <td>2022-07-03</td>\n",
       "    </tr>\n",
       "  </tbody>\n",
       "</table>\n",
       "<p>625 rows × 2 columns</p>\n",
       "</div>"
      ],
      "text/plain": [
       "    customer_id registered_date\n",
       "0      C107850L      2022-08-03\n",
       "1      C110122L      2022-08-14\n",
       "2      C114766L      2022-01-28\n",
       "3      C115342L      2022-06-17\n",
       "4      C115470L      2022-06-11\n",
       "..          ...             ...\n",
       "620    C994467L      2022-03-15\n",
       "621    C995583L      2022-03-02\n",
       "622    C995774L      2022-02-18\n",
       "623    C995819L      2022-07-21\n",
       "624    C998847L      2022-07-03\n",
       "\n",
       "[625 rows x 2 columns]"
      ]
     },
     "execution_count": 24,
     "metadata": {},
     "output_type": "execute_result"
    }
   ],
   "source": [
    "promo = merged_clean[\n",
    "    (merged_clean['registered_date'].dt.year == 2022) &\n",
    "    (merged_clean['is_gross'] == 1) &\n",
    "    (merged_clean['is_valid'] == 0) &\n",
    "    (merged_clean['is_net'] == 0)\n",
    "].groupby(['customer_id', 'registered_date']).size().reset_index(name='count').drop(columns=['count'])\n",
    "promo"
   ]
  },
  {
   "cell_type": "code",
   "execution_count": null,
   "metadata": {
    "colab": {
     "base_uri": "https://localhost:8080/",
     "height": 17
    },
    "id": "mmEg3zJeNgZS",
    "outputId": "468fde9d-af65-41b9-ce69-aabc1db3d2c3"
   },
   "outputs": [],
   "source": [
    "# #Jalankan kode ini untuk mendownload file\n",
    "# from google.colab import files\n",
    "# [nama variabel file].to_csv('audience_list.csv', encoding = 'utf-8-sig',index=False) #ganti [nama variabel file] dengan nama variabel yang digunakan\n",
    "# files.download('audience_list.csv')"
   ]
  },
  {
   "cell_type": "markdown",
   "metadata": {
    "id": "mqJI6emLoQ3u"
   },
   "source": [
    "## `No 4`\n",
    "**Dear Data Analyst**,\n",
    "<br></br>\n",
    "Pada bulan October hingga Desember 2022, kami melakukan campaign setiap hari Sabtu dan Minggu. Kami hendak menilai, apakah campaign tersebut cukup berdampak pada kenaikan penjualan (before_discount). Mohon bantuan untuk menampilkan data:\n",
    "1. Rata-rata harian penjualan weekends (Sabtu dan Minggu) vs rata-rata harian penjualan weekdays (Senin-Jumat) per bulan tersebut. Apakah ada peningkatan penjualan pada masing-masing bulan tersebut.\n",
    "2. Rata-rata harian penjualan weekends (Sabtu dan Minggu) vs rata-rata harian penjualan weekdays (Senin-Jumat) keseluruhan 3 bulan tersebut.\n",
    "\n",
    "Mohon bantuan untuk mengirimkan data tersebut paling lambat minggu depan. Atas bantuan yang diberikan, kami mengucapkan terima kasih.\n",
    "<br></br>\n",
    "Regards\n",
    "\n",
    "**Tim Campaign**"
   ]
  },
  {
   "cell_type": "markdown",
   "metadata": {
    "id": "09ZQfKk2valU"
   },
   "source": [
    "<details><summary>Klik di sini untuk tips</summary>\n",
    "\n",
    "\n",
    "```python\n",
    "1. Buatlah kolom baru untuk day, month, dan month number\n",
    "2. Memfilter data dengan valid = 1\n",
    "3. Memfilter data dengan day termasuk 'Saturday', 'Sunday' dengan menggunakan fungsi isin dan simpan dalam variable 'weekends'\n",
    "4. Memfilter data dengan day termasuk 'Monday','Tuesday','Wednesday','Thusday','Friday' dengan menggunakan fungsi isin dan simpan dengan variabel 'weekday'\n",
    "5. Memfilter data pada transaksi selama 2022 bulan Oktober sampai dengan Desember\n",
    "6. Gunakan groupby berdasarkan pada masing-masing variabel\n",
    "7. Menggabungkan kedua data dengan merge\n",
    "8. Tampilkan pada grafik batang untuk melihat perbedaananya\n",
    "\n",
    "\n",
    "```\n",
    "\n",
    "\n",
    "\n",
    "</details>"
   ]
  },
  {
   "cell_type": "markdown",
   "metadata": {
    "id": "hHcyXNAotzzO"
   },
   "source": [
    "## `Jawaban No 4.1`"
   ]
  },
  {
   "cell_type": "code",
   "execution_count": null,
   "metadata": {},
   "outputs": [
    {
     "data": {
      "text/html": [
       "<div>\n",
       "<style scoped>\n",
       "    .dataframe tbody tr th:only-of-type {\n",
       "        vertical-align: middle;\n",
       "    }\n",
       "\n",
       "    .dataframe tbody tr th {\n",
       "        vertical-align: top;\n",
       "    }\n",
       "\n",
       "    .dataframe thead th {\n",
       "        text-align: right;\n",
       "    }\n",
       "</style>\n",
       "<table border=\"1\" class=\"dataframe\">\n",
       "  <thead>\n",
       "    <tr style=\"text-align: right;\">\n",
       "      <th></th>\n",
       "      <th>weekend_sales</th>\n",
       "    </tr>\n",
       "    <tr>\n",
       "      <th>month_name</th>\n",
       "      <th></th>\n",
       "    </tr>\n",
       "  </thead>\n",
       "  <tbody>\n",
       "    <tr>\n",
       "      <th>October</th>\n",
       "      <td>634,260.07</td>\n",
       "    </tr>\n",
       "    <tr>\n",
       "      <th>November</th>\n",
       "      <td>607,794.21</td>\n",
       "    </tr>\n",
       "    <tr>\n",
       "      <th>December</th>\n",
       "      <td>410,599.40</td>\n",
       "    </tr>\n",
       "  </tbody>\n",
       "</table>\n",
       "</div>"
      ],
      "text/plain": [
       "           weekend_sales\n",
       "month_name              \n",
       "October       634,260.07\n",
       "November      607,794.21\n",
       "December      410,599.40"
      ]
     },
     "execution_count": 26,
     "metadata": {},
     "output_type": "execute_result"
    }
   ],
   "source": [
    "# Tulis kode Anda di bawah ini. Dapat menggunakan lebih dari 1 blok kode\n",
    "merged_clean['month_name'] = merged_clean['order_date'].dt.month_name()\n",
    "merged_clean['day'] = merged_clean['order_date'].dt.day_name()\n",
    "\n",
    "campaign_weekend = merged_clean[\n",
    "    (merged_clean['is_valid']==1) &\n",
    "    (merged_clean['year']==2022) &\n",
    "    (merged_clean['month_name'].isin(['October','November','December'])) &\n",
    "    (merged_clean['day'].isin(['Saturday','Sunday']))].\\\n",
    "        groupby(['month_name']).agg(\n",
    "            weekend_sales = ('before_discount','mean')\n",
    ").reset_index().round(2).sort_values(by=['month_name'], ascending=False)\n",
    "\n",
    "campaign_weekend.map(commas).set_index('month_name')"
   ]
  },
  {
   "cell_type": "code",
   "execution_count": null,
   "metadata": {},
   "outputs": [
    {
     "data": {
      "text/html": [
       "<div>\n",
       "<style scoped>\n",
       "    .dataframe tbody tr th:only-of-type {\n",
       "        vertical-align: middle;\n",
       "    }\n",
       "\n",
       "    .dataframe tbody tr th {\n",
       "        vertical-align: top;\n",
       "    }\n",
       "\n",
       "    .dataframe thead th {\n",
       "        text-align: right;\n",
       "    }\n",
       "</style>\n",
       "<table border=\"1\" class=\"dataframe\">\n",
       "  <thead>\n",
       "    <tr style=\"text-align: right;\">\n",
       "      <th></th>\n",
       "      <th>weekday_sales</th>\n",
       "    </tr>\n",
       "    <tr>\n",
       "      <th>month_name</th>\n",
       "      <th></th>\n",
       "    </tr>\n",
       "  </thead>\n",
       "  <tbody>\n",
       "    <tr>\n",
       "      <th>October</th>\n",
       "      <td>874,690.27</td>\n",
       "    </tr>\n",
       "    <tr>\n",
       "      <th>November</th>\n",
       "      <td>641,862.00</td>\n",
       "    </tr>\n",
       "    <tr>\n",
       "      <th>December</th>\n",
       "      <td>813,574.29</td>\n",
       "    </tr>\n",
       "  </tbody>\n",
       "</table>\n",
       "</div>"
      ],
      "text/plain": [
       "           weekday_sales\n",
       "month_name              \n",
       "October       874,690.27\n",
       "November      641,862.00\n",
       "December      813,574.29"
      ]
     },
     "execution_count": 27,
     "metadata": {},
     "output_type": "execute_result"
    }
   ],
   "source": [
    "campaign_weekday = merged_clean[\n",
    "    (merged_clean['is_valid']==1) &\n",
    "    (merged_clean['year']==2022) &\n",
    "    (merged_clean['month_name'].isin(['October','November','December'])) &\n",
    "    ~(merged_clean['day'].isin(['Saturday','Sunday']))].\\\n",
    "        groupby(['month_name']).agg(\n",
    "            weekday_sales = ('before_discount','mean')\n",
    ").reset_index().round(2).sort_values(by=['month_name'], ascending=False)\n",
    "\n",
    "campaign_weekday.map(commas).set_index('month_name')"
   ]
  },
  {
   "cell_type": "code",
   "execution_count": null,
   "metadata": {},
   "outputs": [
    {
     "data": {
      "text/html": [
       "<div>\n",
       "<style scoped>\n",
       "    .dataframe tbody tr th:only-of-type {\n",
       "        vertical-align: middle;\n",
       "    }\n",
       "\n",
       "    .dataframe tbody tr th {\n",
       "        vertical-align: top;\n",
       "    }\n",
       "\n",
       "    .dataframe thead th {\n",
       "        text-align: right;\n",
       "    }\n",
       "</style>\n",
       "<table border=\"1\" class=\"dataframe\">\n",
       "  <thead>\n",
       "    <tr style=\"text-align: right;\">\n",
       "      <th></th>\n",
       "      <th>weekday_sales</th>\n",
       "      <th>weekend_sales</th>\n",
       "      <th>diff</th>\n",
       "      <th>percentage(%)</th>\n",
       "    </tr>\n",
       "    <tr>\n",
       "      <th>month_name</th>\n",
       "      <th></th>\n",
       "      <th></th>\n",
       "      <th></th>\n",
       "      <th></th>\n",
       "    </tr>\n",
       "  </thead>\n",
       "  <tbody>\n",
       "    <tr>\n",
       "      <th>October</th>\n",
       "      <td>874,690.27</td>\n",
       "      <td>634,260.07</td>\n",
       "      <td>-240,430.20</td>\n",
       "      <td>-27.49</td>\n",
       "    </tr>\n",
       "    <tr>\n",
       "      <th>November</th>\n",
       "      <td>641,862.00</td>\n",
       "      <td>607,794.21</td>\n",
       "      <td>-34,067.79</td>\n",
       "      <td>-5.31</td>\n",
       "    </tr>\n",
       "    <tr>\n",
       "      <th>December</th>\n",
       "      <td>813,574.29</td>\n",
       "      <td>410,599.40</td>\n",
       "      <td>-402,974.89</td>\n",
       "      <td>-49.53</td>\n",
       "    </tr>\n",
       "  </tbody>\n",
       "</table>\n",
       "</div>"
      ],
      "text/plain": [
       "           weekday_sales weekend_sales         diff percentage(%)\n",
       "month_name                                                       \n",
       "October       874,690.27    634,260.07  -240,430.20        -27.49\n",
       "November      641,862.00    607,794.21   -34,067.79         -5.31\n",
       "December      813,574.29    410,599.40  -402,974.89        -49.53"
      ]
     },
     "execution_count": 28,
     "metadata": {},
     "output_type": "execute_result"
    }
   ],
   "source": [
    "campaign = pd.merge(campaign_weekday, campaign_weekend, on='month_name', how='inner')\n",
    "campaign['diff'] = campaign['weekend_sales'] - campaign['weekday_sales']\n",
    "campaign['percentage(%)'] = round(campaign['diff'] / campaign['weekday_sales'] * 100, 2)\n",
    "campaign.set_index('month_name').map(commas)"
   ]
  },
  {
   "cell_type": "code",
   "execution_count": null,
   "metadata": {
    "id": "r3uWFn_8xY8E"
   },
   "outputs": [
    {
     "data": {
      "text/html": [
       "<div>\n",
       "<style scoped>\n",
       "    .dataframe tbody tr th:only-of-type {\n",
       "        vertical-align: middle;\n",
       "    }\n",
       "\n",
       "    .dataframe tbody tr th {\n",
       "        vertical-align: top;\n",
       "    }\n",
       "\n",
       "    .dataframe thead th {\n",
       "        text-align: right;\n",
       "    }\n",
       "</style>\n",
       "<table border=\"1\" class=\"dataframe\">\n",
       "  <thead>\n",
       "    <tr style=\"text-align: right;\">\n",
       "      <th></th>\n",
       "      <th>month_name</th>\n",
       "      <th>weekend_sales</th>\n",
       "    </tr>\n",
       "  </thead>\n",
       "  <tbody>\n",
       "    <tr>\n",
       "      <th>5</th>\n",
       "      <td>October</td>\n",
       "      <td>634,260.07</td>\n",
       "    </tr>\n",
       "    <tr>\n",
       "      <th>3</th>\n",
       "      <td>November</td>\n",
       "      <td>607,794.21</td>\n",
       "    </tr>\n",
       "    <tr>\n",
       "      <th>1</th>\n",
       "      <td>December</td>\n",
       "      <td>410,599.40</td>\n",
       "    </tr>\n",
       "  </tbody>\n",
       "</table>\n",
       "</div>"
      ],
      "text/plain": [
       "  month_name weekend_sales\n",
       "5    October    634,260.07\n",
       "3   November    607,794.21\n",
       "1   December    410,599.40"
      ]
     },
     "execution_count": 29,
     "metadata": {},
     "output_type": "execute_result"
    }
   ],
   "source": [
    "# Tulis kode Anda di bawah ini. Dapat menggunakan lebih dari 1 blok kode\n",
    "merged_clean['month_name'] = merged_clean['order_date'].dt.month_name()\n",
    "merged_clean['day'] = merged_clean['order_date'].dt.day_name()\n",
    "\n",
    "campaign_base = merged_clean[\n",
    "    (merged_clean['is_valid']==1) &\n",
    "    (merged_clean['year']==2022) &\n",
    "    (merged_clean['month_name'].isin(['October','November','December']))].\\\n",
    "        groupby(['month_name', merged_clean['day'].isin(['Saturday','Sunday'])]).agg(\n",
    "            weekend_sales = ('before_discount','mean')\n",
    ").reset_index().round(2).sort_values(by=['month_name'], ascending=False)\n",
    "\n",
    "campaign_weekend = campaign_base[campaign_base['day'] == True]\n",
    "campaign_weekend = campaign_weekend.drop(columns=['day'])\n",
    "campaign_weekend.map(commas)"
   ]
  },
  {
   "cell_type": "code",
   "execution_count": null,
   "metadata": {},
   "outputs": [
    {
     "data": {
      "text/html": [
       "<div>\n",
       "<style scoped>\n",
       "    .dataframe tbody tr th:only-of-type {\n",
       "        vertical-align: middle;\n",
       "    }\n",
       "\n",
       "    .dataframe tbody tr th {\n",
       "        vertical-align: top;\n",
       "    }\n",
       "\n",
       "    .dataframe thead th {\n",
       "        text-align: right;\n",
       "    }\n",
       "</style>\n",
       "<table border=\"1\" class=\"dataframe\">\n",
       "  <thead>\n",
       "    <tr style=\"text-align: right;\">\n",
       "      <th></th>\n",
       "      <th>month_name</th>\n",
       "      <th>weekday_sales</th>\n",
       "    </tr>\n",
       "  </thead>\n",
       "  <tbody>\n",
       "    <tr>\n",
       "      <th>4</th>\n",
       "      <td>October</td>\n",
       "      <td>874,690.27</td>\n",
       "    </tr>\n",
       "    <tr>\n",
       "      <th>2</th>\n",
       "      <td>November</td>\n",
       "      <td>641,862.00</td>\n",
       "    </tr>\n",
       "    <tr>\n",
       "      <th>0</th>\n",
       "      <td>December</td>\n",
       "      <td>813,574.29</td>\n",
       "    </tr>\n",
       "  </tbody>\n",
       "</table>\n",
       "</div>"
      ],
      "text/plain": [
       "  month_name weekday_sales\n",
       "4    October    874,690.27\n",
       "2   November    641,862.00\n",
       "0   December    813,574.29"
      ]
     },
     "execution_count": 30,
     "metadata": {},
     "output_type": "execute_result"
    }
   ],
   "source": [
    "campaign_weekday = campaign_base[campaign_base['day'] == False]\n",
    "campaign_weekday = campaign_weekday.drop(columns=['day'])\n",
    "campaign_weekday.rename(columns={'weekend_sales': 'weekday_sales'}, inplace=True)\n",
    "campaign_weekday.map(commas)"
   ]
  },
  {
   "cell_type": "code",
   "execution_count": null,
   "metadata": {},
   "outputs": [
    {
     "data": {
      "text/html": [
       "<div>\n",
       "<style scoped>\n",
       "    .dataframe tbody tr th:only-of-type {\n",
       "        vertical-align: middle;\n",
       "    }\n",
       "\n",
       "    .dataframe tbody tr th {\n",
       "        vertical-align: top;\n",
       "    }\n",
       "\n",
       "    .dataframe thead th {\n",
       "        text-align: right;\n",
       "    }\n",
       "</style>\n",
       "<table border=\"1\" class=\"dataframe\">\n",
       "  <thead>\n",
       "    <tr style=\"text-align: right;\">\n",
       "      <th></th>\n",
       "      <th>weekday_sales</th>\n",
       "      <th>weekend_sales</th>\n",
       "      <th>diff</th>\n",
       "      <th>percentage(%)</th>\n",
       "    </tr>\n",
       "    <tr>\n",
       "      <th>month_name</th>\n",
       "      <th></th>\n",
       "      <th></th>\n",
       "      <th></th>\n",
       "      <th></th>\n",
       "    </tr>\n",
       "  </thead>\n",
       "  <tbody>\n",
       "    <tr>\n",
       "      <th>October</th>\n",
       "      <td>874,690.27</td>\n",
       "      <td>634,260.07</td>\n",
       "      <td>240,430.20</td>\n",
       "      <td>27.49</td>\n",
       "    </tr>\n",
       "    <tr>\n",
       "      <th>November</th>\n",
       "      <td>641,862.00</td>\n",
       "      <td>607,794.21</td>\n",
       "      <td>34,067.79</td>\n",
       "      <td>5.31</td>\n",
       "    </tr>\n",
       "    <tr>\n",
       "      <th>December</th>\n",
       "      <td>813,574.29</td>\n",
       "      <td>410,599.40</td>\n",
       "      <td>402,974.89</td>\n",
       "      <td>49.53</td>\n",
       "    </tr>\n",
       "  </tbody>\n",
       "</table>\n",
       "</div>"
      ],
      "text/plain": [
       "           weekday_sales weekend_sales        diff percentage(%)\n",
       "month_name                                                      \n",
       "October       874,690.27    634,260.07  240,430.20         27.49\n",
       "November      641,862.00    607,794.21   34,067.79          5.31\n",
       "December      813,574.29    410,599.40  402,974.89         49.53"
      ]
     },
     "execution_count": 31,
     "metadata": {},
     "output_type": "execute_result"
    }
   ],
   "source": [
    "campaign = pd.merge(campaign_weekday, campaign_weekend, on='month_name', how='inner')\n",
    "campaign['diff'] = round(campaign['weekday_sales'] - campaign['weekend_sales'], 2)\n",
    "campaign['percentage(%)'] = round(campaign['diff'] / campaign['weekday_sales'] * 100, 2)\n",
    "campaign.set_index('month_name').map(commas)"
   ]
  },
  {
   "cell_type": "code",
   "execution_count": null,
   "metadata": {},
   "outputs": [
    {
     "data": {
      "image/png": "[encoded data removed]",
      "text/plain": [
       "<Figure size 640x480 with 1 Axes>"
      ]
     },
     "metadata": {},
     "output_type": "display_data"
    }
   ],
   "source": [
    "sns.barplot(x=['October', 'November', 'December'], y='diff',data=campaign, color='red').set(title=\"Average Weekend vs Weekday sales each month from October to December 2022\")\n",
    "plt.show()"
   ]
  },
  {
   "cell_type": "markdown",
   "metadata": {
    "id": "fwlk5rTGt5EZ"
   },
   "source": [
    "## `Jawaban No 4.2`"
   ]
  },
  {
   "cell_type": "code",
   "execution_count": null,
   "metadata": {},
   "outputs": [
    {
     "data": {
      "text/html": [
       "<div>\n",
       "<style scoped>\n",
       "    .dataframe tbody tr th:only-of-type {\n",
       "        vertical-align: middle;\n",
       "    }\n",
       "\n",
       "    .dataframe tbody tr th {\n",
       "        vertical-align: top;\n",
       "    }\n",
       "\n",
       "    .dataframe thead th {\n",
       "        text-align: right;\n",
       "    }\n",
       "</style>\n",
       "<table border=\"1\" class=\"dataframe\">\n",
       "  <thead>\n",
       "    <tr style=\"text-align: right;\">\n",
       "      <th></th>\n",
       "      <th>avg_overall_sales</th>\n",
       "    </tr>\n",
       "  </thead>\n",
       "  <tbody>\n",
       "    <tr>\n",
       "      <th>Weekend</th>\n",
       "      <td>558,865.15</td>\n",
       "    </tr>\n",
       "    <tr>\n",
       "      <th>Weekday</th>\n",
       "      <td>770,146.01</td>\n",
       "    </tr>\n",
       "    <tr>\n",
       "      <th>Difference</th>\n",
       "      <td>-211,280.86</td>\n",
       "    </tr>\n",
       "    <tr>\n",
       "      <th>Percentage(%)</th>\n",
       "      <td>-27.43</td>\n",
       "    </tr>\n",
       "  </tbody>\n",
       "</table>\n",
       "</div>"
      ],
      "text/plain": [
       "              avg_overall_sales\n",
       "Weekend              558,865.15\n",
       "Weekday              770,146.01\n",
       "Difference          -211,280.86\n",
       "Percentage(%)            -27.43"
      ]
     },
     "execution_count": 33,
     "metadata": {},
     "output_type": "execute_result"
    }
   ],
   "source": [
    "campaign_overall = merged_clean[\n",
    "    (merged_clean['is_valid']==1) &\n",
    "    (merged_clean['year']==2022) &\n",
    "    (merged_clean['month_name'].isin(['October','November','December']))].\\\n",
    "        groupby(~merged_clean['day'].isin(['Saturday','Sunday'])).agg(\n",
    "            avg_overall_sales = ('before_discount','mean')\n",
    ").round(2)\n",
    "\n",
    "campaign_overall.index = ['Weekend', 'Weekday']\n",
    "diff_avg_overall = campaign_overall.loc['Weekend','avg_overall_sales'] - campaign_overall.loc['Weekday','avg_overall_sales']\n",
    "percentage_avg_overall = round(diff_avg_overall / campaign_overall.loc['Weekday','avg_overall_sales'] * 100,2)\n",
    "\n",
    "new_row = pd.DataFrame({'avg_overall_sales': [diff_avg_overall]}, index=['Difference'])\n",
    "new_row_2 = pd.DataFrame({'avg_overall_sales': [percentage_avg_overall]}, index=['Percentage(%)'])\n",
    "campaign_overall = pd.concat([campaign_overall, new_row, new_row_2])\n",
    "\n",
    "campaign_overall.map(commas)"
   ]
  },
  {
   "cell_type": "code",
   "execution_count": null,
   "metadata": {},
   "outputs": [
    {
     "data": {
      "image/png": "[encoded data removed]",
      "text/plain": [
       "<Figure size 640x480 with 1 Axes>"
      ]
     },
     "metadata": {},
     "output_type": "display_data"
    }
   ],
   "source": [
    "campaign_overall_chart = campaign_overall.head(3)\n",
    "sns.barplot(x=['Weekday', 'Weekend', 'Difference'], y='avg_overall_sales', data=campaign_overall_chart).set(title=\"Average Weekend vs Weekday sales from October to December 2022\")\n",
    "plt.show()"
   ]
  }
 ],
 "metadata": {
  "colab": {
   "collapsed_sections": [
    "LN0lhz047va-",
    "KYnzQ6fHFV0j",
    "mqJI6emLoQ3u"
   ],
   "provenance": []
  },
  "kernelspec": {
   "display_name": "Python 3",
   "name": "python3"
  },
  "language_info": {
   "codemirror_mode": {
    "name": "ipython",
    "version": 3
   },
   "file_extension": ".py",
   "mimetype": "text/x-python",
   "name": "python",
   "nbconvert_exporter": "python",
   "pygments_lexer": "ipython3",
   "version": "3.13.5"
  }
 },
 "nbformat": 4,
 "nbformat_minor": 0
}
